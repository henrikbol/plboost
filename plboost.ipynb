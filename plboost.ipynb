{
 "cells": [
  {
   "cell_type": "code",
   "execution_count": 1,
   "metadata": {},
   "outputs": [],
   "source": [
    "import pandas as pd"
   ]
  },
  {
   "cell_type": "code",
   "execution_count": 32,
   "metadata": {},
   "outputs": [],
   "source": [
    "df = pd.read_csv(\"E2020_21.csv\")\n",
    "df = df.append(pd.read_csv(\"E2019_20.csv\"))\n",
    "df = df.append(pd.read_csv(\"E2018-19.csv\"))\n",
    "df = df.append(pd.read_csv(\"E2017-18.csv\"))\n",
    "df = df.append(pd.read_csv(\"E2016-17.csv\"))\n",
    "\n",
    "df[\"Date\"] = pd.to_datetime(df[\"Date\"])"
   ]
  },
  {
   "cell_type": "code",
   "execution_count": 34,
   "metadata": {},
   "outputs": [
    {
     "data": {
      "text/plain": [
       "(1566, 127)"
      ]
     },
     "execution_count": 34,
     "metadata": {},
     "output_type": "execute_result"
    }
   ],
   "source": [
    "df.shape"
   ]
  },
  {
   "cell_type": "code",
   "execution_count": 36,
   "metadata": {},
   "outputs": [
    {
     "data": {
      "text/plain": [
       "Leicester           79\n",
       "Chelsea             79\n",
       "Everton             79\n",
       "Crystal Palace      79\n",
       "Tottenham           79\n",
       "Arsenal             78\n",
       "West Ham            78\n",
       "Southampton         78\n",
       "Man United          78\n",
       "Liverpool           78\n",
       "Man City            78\n",
       "Burnley             77\n",
       "Watford             76\n",
       "Bournemouth         76\n",
       "Newcastle           60\n",
       "Brighton            59\n",
       "West Brom           40\n",
       "Wolves              40\n",
       "Swansea             38\n",
       "Stoke               38\n",
       "Huddersfield        38\n",
       "Sheffield United    22\n",
       "Aston Villa         21\n",
       "Fulham              21\n",
       "Sunderland          19\n",
       "Hull                19\n",
       "Norwich             19\n",
       "Cardiff             19\n",
       "Middlesbrough       19\n",
       "Leeds                2\n",
       "Name: HomeTeam, dtype: int64"
      ]
     },
     "execution_count": 36,
     "metadata": {},
     "output_type": "execute_result"
    }
   ],
   "source": [
    "df[\"HomeTeam\"].value_counts()"
   ]
  },
  {
   "cell_type": "code",
   "execution_count": null,
   "metadata": {},
   "outputs": [],
   "source": []
  },
  {
   "cell_type": "code",
   "execution_count": null,
   "metadata": {},
   "outputs": [],
   "source": []
  }
 ],
 "metadata": {
  "kernelspec": {
   "display_name": "myenv",
   "language": "python",
   "name": "myenv"
  },
  "language_info": {
   "codemirror_mode": {
    "name": "ipython",
    "version": 3
   },
   "file_extension": ".py",
   "mimetype": "text/x-python",
   "name": "python",
   "nbconvert_exporter": "python",
   "pygments_lexer": "ipython3",
   "version": "3.8.6"
  }
 },
 "nbformat": 4,
 "nbformat_minor": 4
}
